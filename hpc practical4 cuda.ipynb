{
 "cells": [
  {
   "cell_type": "code",
   "execution_count": 1,
   "id": "88f6b6e0",
   "metadata": {},
   "outputs": [
    {
     "name": "stdout",
     "output_type": "stream",
     "text": [
      "Add two large vectors:\n",
      "First 10 elements of result vector: [ 0.  2.  4.  6.  8. 10. 12. 14. 16. 18.]\n",
      "Time taken for vector addition on CPU: 0.03387570381164551 seconds\n",
      "\n",
      "Multiply two N x N matrices:\n",
      "First 5x5 block of result matrix:\n",
      " [[258.95947163 255.6485858  251.31877175 242.85904212 255.12416088]\n",
      " [258.49686028 262.41930434 258.96101969 251.55880749 255.61496989]\n",
      " [261.13798815 261.91378037 256.33898807 251.9529689  250.52737796]\n",
      " [256.5693612  245.06720887 249.28894068 241.65650297 245.0859975 ]\n",
      " [252.12563142 256.13561331 257.18783047 243.68705936 251.32879428]]\n",
      "Time taken for matrix multiplication on CPU: 0.1261448860168457 seconds\n"
     ]
    }
   ],
   "source": [
    "import numpy as np\n",
    "import time\n",
    "\n",
    "# Function to add two large vectors\n",
    "def vecAdd():\n",
    "    n = 10000000  # 10 million elements\n",
    "\n",
    "    # Host input vectors (created using NumPy)\n",
    "    h_a = np.arange(n, dtype=np.float64)\n",
    "    h_b = np.arange(n, dtype=np.float64)\n",
    "\n",
    "    # Start the timer\n",
    "    start = time.time()\n",
    "\n",
    "    # Perform vector addition\n",
    "    h_c = h_a + h_b\n",
    "\n",
    "    # End the timer\n",
    "    end = time.time()\n",
    "\n",
    "    print(\"First 10 elements of result vector:\", h_c[:10])\n",
    "    print(\"Time taken for vector addition on CPU:\", end - start, \"seconds\")\n",
    "\n",
    "# Function to multiply two N x N matrices\n",
    "def matMul():\n",
    "    N = 1024  # 1024 x 1024 matrices\n",
    "\n",
    "    # Host matrices (created using NumPy)\n",
    "    h_a = np.random.rand(N, N).astype(np.float64)\n",
    "    h_b = np.random.rand(N, N).astype(np.float64)\n",
    "\n",
    "    # Start the timer\n",
    "    start = time.time()\n",
    "\n",
    "    # Perform matrix multiplication\n",
    "    h_c = np.matmul(h_a, h_b)\n",
    "\n",
    "    # End the timer\n",
    "    end = time.time()\n",
    "\n",
    "    print(\"First 5x5 block of result matrix:\\n\", h_c[:5, :5])\n",
    "    print(\"Time taken for matrix multiplication on CPU:\", end - start, \"seconds\")\n",
    "\n",
    "def main():\n",
    "    print(\"Add two large vectors:\")\n",
    "    vecAdd()\n",
    "\n",
    "    print(\"\\nMultiply two N x N matrices:\")\n",
    "    matMul()\n",
    "\n",
    "if __name__ == \"__main__\":\n",
    "    main()\n"
   ]
  },
  {
   "cell_type": "code",
   "execution_count": null,
   "id": "17505571",
   "metadata": {},
   "outputs": [],
   "source": []
  }
 ],
 "metadata": {
  "kernelspec": {
   "display_name": "Python 3 (ipykernel)",
   "language": "python",
   "name": "python3"
  },
  "language_info": {
   "codemirror_mode": {
    "name": "ipython",
    "version": 3
   },
   "file_extension": ".py",
   "mimetype": "text/x-python",
   "name": "python",
   "nbconvert_exporter": "python",
   "pygments_lexer": "ipython3",
   "version": "3.11.4"
  }
 },
 "nbformat": 4,
 "nbformat_minor": 5
}
